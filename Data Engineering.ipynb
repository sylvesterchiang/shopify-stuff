{
 "cells": [
  {
   "cell_type": "code",
   "execution_count": 1,
   "metadata": {
    "collapsed": true
   },
   "outputs": [],
   "source": [
    "import json"
   ]
  },
  {
   "cell_type": "code",
   "execution_count": 16,
   "metadata": {},
   "outputs": [],
   "source": [
    "with open('orders.json') as f:\n",
    "    orders = json.load(f)\n",
    "    \n",
    "with open('customers.json') as f:\n",
    "    customers = json.load(f)"
   ]
  },
  {
   "cell_type": "code",
   "execution_count": 14,
   "metadata": {},
   "outputs": [],
   "source": [
    "#inner join\n",
    "def inner_joiner(customers, orders):\n",
    "    #hash customer id's since those are unique\n",
    "    c_dict = {}\n",
    "    for c in customers:\n",
    "        c_dict[c['cid']] = c\n",
    "    \n",
    "    merged_list = []\n",
    "    for o in orders:\n",
    "        if o['customer_id'] in c_dict:\n",
    "            o['name'] = c_dict[o['customer_id']]['name']\n",
    "            merged_list.append(o)\n",
    "    \n",
    "    return(merged_list)"
   ]
  },
  {
   "cell_type": "code",
   "execution_count": 17,
   "metadata": {},
   "outputs": [
    {
     "data": {
      "text/plain": [
       "[{'customer_id': 1, 'oid': 1, 'price': 2.5},\n",
       " {'customer_id': 3, 'oid': 2, 'price': 5},\n",
       " {'customer_id': 3, 'oid': 3, 'price': 2},\n",
       " {'customer_id': 2, 'oid': 4, 'price': 2},\n",
       " {'customer_id': 6, 'oid': 5, 'price': 3},\n",
       " {'customer_id': 5, 'oid': 6, 'price': 4},\n",
       " {'customer_id': 1, 'oid': 7, 'price': 10}]"
      ]
     },
     "execution_count": 17,
     "metadata": {},
     "output_type": "execute_result"
    }
   ],
   "source": [
    "orders"
   ]
  },
  {
   "cell_type": "code",
   "execution_count": 18,
   "metadata": {},
   "outputs": [
    {
     "data": {
      "text/plain": [
       "[{'cid': 1, 'name': 'Barry'},\n",
       " {'cid': 2, 'name': 'Todd'},\n",
       " {'cid': 3, 'name': 'Steve'},\n",
       " {'cid': 4, 'name': 'Edward'},\n",
       " {'cid': 5, 'name': 'Rodney'}]"
      ]
     },
     "execution_count": 18,
     "metadata": {},
     "output_type": "execute_result"
    }
   ],
   "source": [
    "customers"
   ]
  },
  {
   "cell_type": "code",
   "execution_count": 19,
   "metadata": {},
   "outputs": [
    {
     "data": {
      "text/plain": [
       "[{'customer_id': 1, 'name': 'Barry', 'oid': 1, 'price': 2.5},\n",
       " {'customer_id': 3, 'name': 'Steve', 'oid': 2, 'price': 5},\n",
       " {'customer_id': 3, 'name': 'Steve', 'oid': 3, 'price': 2},\n",
       " {'customer_id': 2, 'name': 'Todd', 'oid': 4, 'price': 2},\n",
       " {'customer_id': 5, 'name': 'Rodney', 'oid': 6, 'price': 4},\n",
       " {'customer_id': 1, 'name': 'Barry', 'oid': 7, 'price': 10}]"
      ]
     },
     "execution_count": 19,
     "metadata": {},
     "output_type": "execute_result"
    }
   ],
   "source": [
    "inner_joiner(customers, orders)"
   ]
  },
  {
   "cell_type": "markdown",
   "metadata": {},
   "source": [
    "The resulting array has 6 elements. Barry and Ssteve correctively bought 4 items. I hashed the customer list and then iterated through the orders list to create an algorithm that runs on O(n). This assumes that customers are unique. "
   ]
  },
  {
   "cell_type": "code",
   "execution_count": 22,
   "metadata": {
    "collapsed": true
   },
   "outputs": [],
   "source": [
    "#inner join\n",
    "def right_joiner(customers, orders):\n",
    "    #hash customer id's since those are unique\n",
    "    c_dict = {}\n",
    "    for c in customers:\n",
    "        c_dict[c['cid']] = c\n",
    "    \n",
    "    merged_list = []\n",
    "    for o in orders:\n",
    "        if o['customer_id'] in c_dict:\n",
    "            o['name'] = c_dict[o['customer_id']]['name']\n",
    "            merged_list.append(o)\n",
    "        else:\n",
    "            o['name'] = None\n",
    "            merged_list.append(o)\n",
    "    \n",
    "    return(merged_list)"
   ]
  },
  {
   "cell_type": "code",
   "execution_count": 23,
   "metadata": {},
   "outputs": [
    {
     "data": {
      "text/plain": [
       "[{'customer_id': 1, 'name': 'Barry', 'oid': 1, 'price': 2.5},\n",
       " {'customer_id': 3, 'name': 'Steve', 'oid': 2, 'price': 5},\n",
       " {'customer_id': 3, 'name': 'Steve', 'oid': 3, 'price': 2},\n",
       " {'customer_id': 2, 'name': 'Todd', 'oid': 4, 'price': 2},\n",
       " {'customer_id': 6, 'name': None, 'oid': 5, 'price': 3},\n",
       " {'customer_id': 5, 'name': 'Rodney', 'oid': 6, 'price': 4},\n",
       " {'customer_id': 1, 'name': 'Barry', 'oid': 7, 'price': 10}]"
      ]
     },
     "execution_count": 23,
     "metadata": {},
     "output_type": "execute_result"
    }
   ],
   "source": [
    "right_joiner(customers, orders)"
   ]
  },
  {
   "cell_type": "code",
   "execution_count": null,
   "metadata": {
    "collapsed": true
   },
   "outputs": [],
   "source": []
  }
 ],
 "metadata": {
  "kernelspec": {
   "display_name": "Python 3",
   "language": "python",
   "name": "python3"
  },
  "language_info": {
   "codemirror_mode": {
    "name": "ipython",
    "version": 3
   },
   "file_extension": ".py",
   "mimetype": "text/x-python",
   "name": "python",
   "nbconvert_exporter": "python",
   "pygments_lexer": "ipython3",
   "version": "3.6.1"
  }
 },
 "nbformat": 4,
 "nbformat_minor": 2
}
